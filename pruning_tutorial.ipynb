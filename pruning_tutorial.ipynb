{
 "cells": [
  {
   "cell_type": "code",
   "execution_count": 1,
   "metadata": {},
   "outputs": [
    {
     "name": "stdout",
     "output_type": "stream",
     "text": [
      "using GPU ID:0,\n",
      "\n"
     ]
    }
   ],
   "source": [
    "%run /Desktop/Share/CUDA_DEVICE_setup.py -n 1"
   ]
  },
  {
   "cell_type": "markdown",
   "metadata": {},
   "source": [
    "import os\n",
    "os.environ['CUDA_DEVICE_ORDER'] = 'PCI_BUS_ID'\n",
    "os.environ['CUDA_VISIBLE_DEVICES'] = \"0\"  # set as the using GPU ID"
   ]
  },
  {
   "cell_type": "code",
   "execution_count": null,
   "metadata": {
    "collapsed": false,
    "jupyter": {
     "outputs_hidden": false
    }
   },
   "outputs": [],
   "source": [
    "# For tips on running notebooks in Google Colab, see\n",
    "# https://pytorch.org/tutorials/beginner/colab\n",
    "#%matplotlib inline"
   ]
  },
  {
   "cell_type": "markdown",
   "metadata": {},
   "source": [
    "Pruning Tutorial\n",
    "================\n",
    "\n",
    "**Author**: [Michela Paganini](https://github.com/mickypaganini)\n",
    "\n",
    "State-of-the-art deep learning techniques rely on over-parametrized\n",
    "models that are hard to deploy. On the contrary, biological neural\n",
    "networks are known to use efficient sparse connectivity. Identifying\n",
    "optimal techniques to compress models by reducing the number of\n",
    "parameters in them is important in order to reduce memory, battery, and\n",
    "hardware consumption without sacrificing accuracy. This in turn allows\n",
    "you to deploy lightweight models on device, and guarantee privacy with\n",
    "private on-device computation. On the research front, pruning is used to\n",
    "investigate the differences in learning dynamics between\n",
    "over-parametrized and under-parametrized networks, to study the role of\n",
    "lucky sparse subnetworks and initializations (\\\"[lottery\n",
    "tickets](https://arxiv.org/abs/1803.03635)\\\") as a destructive neural\n",
    "architecture search technique, and more.\n",
    "\n",
    "In this tutorial, you will learn how to use `torch.nn.utils.prune` to\n",
    "sparsify your neural networks, and how to extend it to implement your\n",
    "own custom pruning technique.\n",
    "\n",
    "Requirements\n",
    "------------\n",
    "\n",
    "`\"torch>=1.4.0a0+8e8a5e0\"`\n"
   ]
  },
  {
   "cell_type": "code",
   "execution_count": 2,
   "metadata": {
    "collapsed": false,
    "jupyter": {
     "outputs_hidden": false
    }
   },
   "outputs": [],
   "source": [
    "import torch\n",
    "from torch import nn\n",
    "import torch.nn.utils.prune as prune\n",
    "import torch.nn.functional as F"
   ]
  },
  {
   "cell_type": "markdown",
   "metadata": {},
   "source": [
    "Create a model\n",
    "==============\n",
    "\n",
    "In this tutorial, we use the\n",
    "[LeNet](http://yann.lecun.com/exdb/publis/pdf/lecun-98.pdf) architecture\n",
    "from LeCun et al., 1998.\n"
   ]
  },
  {
   "cell_type": "code",
   "execution_count": 3,
   "metadata": {
    "collapsed": false,
    "jupyter": {
     "outputs_hidden": false
    }
   },
   "outputs": [],
   "source": [
    "device = torch.device(\"cuda\" if torch.cuda.is_available() else \"cpu\")\n",
    "\n",
    "class LeNet(nn.Module):\n",
    "    def __init__(self):\n",
    "        super(LeNet, self).__init__()\n",
    "        # 1 input image channel, 6 output channels, 5x5 square conv kernel\n",
    "        self.conv1 = nn.Conv2d(1, 6, 5)\n",
    "        self.conv2 = nn.Conv2d(6, 16, 5)\n",
    "        self.fc1 = nn.Linear(16 * 5 * 5, 120)  # 5x5 image dimension\n",
    "        self.fc2 = nn.Linear(120, 84)\n",
    "        self.fc3 = nn.Linear(84, 10)\n",
    "\n",
    "    def forward(self, x):\n",
    "        x = F.max_pool2d(F.relu(self.conv1(x)), (2, 2))\n",
    "        x = F.max_pool2d(F.relu(self.conv2(x)), 2)\n",
    "        x = x.view(-1, int(x.nelement() / x.shape[0]))\n",
    "        x = F.relu(self.fc1(x))\n",
    "        x = F.relu(self.fc2(x))\n",
    "        x = self.fc3(x)\n",
    "        return x\n",
    "\n",
    "model = LeNet().to(device=device)"
   ]
  },
  {
   "cell_type": "markdown",
   "metadata": {},
   "source": [
    "Inspect a Module\n",
    "================\n",
    "\n",
    "Let\\'s inspect the (unpruned) `conv1` layer in our LeNet model. It will\n",
    "contain two parameters `weight` and `bias`, and no buffers, for now.\n"
   ]
  },
  {
   "cell_type": "code",
   "execution_count": 4,
   "metadata": {
    "collapsed": false,
    "jupyter": {
     "outputs_hidden": false
    }
   },
   "outputs": [
    {
     "name": "stdout",
     "output_type": "stream",
     "text": [
      "[('weight', Parameter containing:\n",
      "tensor([[[[-1.8933e-01, -1.2228e-01,  1.1060e-01,  1.3977e-01,  1.5012e-01],\n",
      "          [-1.2594e-01, -4.1920e-02,  9.8963e-02, -1.5159e-01,  8.0946e-02],\n",
      "          [ 3.2531e-02, -9.9406e-02, -1.3747e-01,  9.2051e-02,  4.9368e-02],\n",
      "          [-9.2733e-02,  5.6737e-02, -8.2500e-02,  1.1898e-01, -5.6817e-02],\n",
      "          [ 1.4319e-01,  1.5837e-02, -4.5593e-02,  4.1479e-02,  4.6965e-02]]],\n",
      "\n",
      "\n",
      "        [[[ 1.7819e-01, -1.9794e-01, -1.4520e-01,  3.0393e-02,  6.6795e-02],\n",
      "          [-2.1123e-02,  1.7833e-01, -1.5626e-01, -2.0735e-02,  8.0733e-02],\n",
      "          [-1.7620e-01,  7.9979e-02,  1.4170e-01, -9.6881e-02, -1.2058e-01],\n",
      "          [ 9.0285e-02, -1.7996e-01, -1.8906e-01, -1.7591e-01,  1.4062e-02],\n",
      "          [-1.5610e-01, -1.7356e-01, -3.4132e-02, -3.7753e-02,  1.9573e-01]]],\n",
      "\n",
      "\n",
      "        [[[ 1.9412e-01,  1.1285e-01,  2.9341e-03, -1.5073e-01,  1.9376e-01],\n",
      "          [-8.6163e-02,  2.0159e-02, -1.7440e-04,  1.5028e-01, -3.4078e-02],\n",
      "          [ 1.4343e-01,  1.5757e-01, -1.9460e-01, -1.4789e-01, -7.8595e-02],\n",
      "          [ 1.7928e-01,  3.3843e-02,  1.3017e-01,  1.6632e-01, -1.6838e-01],\n",
      "          [-1.5982e-01,  1.8484e-01, -1.7469e-01,  9.0083e-02, -8.4952e-02]]],\n",
      "\n",
      "\n",
      "        [[[ 1.7396e-01,  4.7653e-02,  1.5594e-01, -1.8327e-01, -1.3231e-01],\n",
      "          [-1.6699e-01, -5.0175e-02, -2.7079e-02, -9.1940e-02,  6.3662e-02],\n",
      "          [ 6.7896e-03,  1.0296e-01,  1.0693e-02, -4.1503e-02,  1.7078e-01],\n",
      "          [-7.8061e-02,  1.7156e-01, -3.2991e-03,  2.6077e-02, -1.2407e-01],\n",
      "          [-1.7327e-02,  4.8222e-02,  9.7961e-02, -1.0400e-01,  1.6335e-01]]],\n",
      "\n",
      "\n",
      "        [[[-4.1508e-02, -6.5618e-02, -1.4095e-01, -1.7235e-01,  1.0942e-01],\n",
      "          [ 1.1250e-01, -2.4365e-03, -2.0254e-02, -1.8738e-01,  6.0640e-02],\n",
      "          [-1.6497e-01,  5.4306e-02, -1.2376e-01,  9.6655e-02,  7.2933e-02],\n",
      "          [ 5.4799e-02,  8.6899e-02, -5.9952e-02,  1.9998e-01, -1.8144e-02],\n",
      "          [ 1.6271e-01, -5.4605e-02, -1.3990e-01,  1.6033e-01, -1.4520e-01]]],\n",
      "\n",
      "\n",
      "        [[[-1.1593e-01, -1.0908e-01, -9.1826e-02, -7.7723e-02, -1.9332e-01],\n",
      "          [ 1.6267e-01,  1.3136e-01, -1.9225e-01, -1.2112e-02,  1.8790e-01],\n",
      "          [-1.4221e-01, -8.4449e-02, -1.9593e-02,  1.8368e-02,  4.2265e-02],\n",
      "          [-4.5177e-02,  1.6961e-02,  6.0044e-02,  1.7229e-01,  7.4935e-04],\n",
      "          [-1.7848e-01, -6.4437e-03, -1.7914e-01, -7.7936e-02, -1.4736e-01]]]],\n",
      "       device='cuda:0', requires_grad=True)), ('bias', Parameter containing:\n",
      "tensor([ 0.1309, -0.0549, -0.1327, -0.0229,  0.1234,  0.0908], device='cuda:0',\n",
      "       requires_grad=True))]\n"
     ]
    }
   ],
   "source": [
    "module = model.conv1\n",
    "print(list(module.named_parameters()))"
   ]
  },
  {
   "cell_type": "code",
   "execution_count": 5,
   "metadata": {
    "collapsed": false,
    "jupyter": {
     "outputs_hidden": false
    }
   },
   "outputs": [
    {
     "name": "stdout",
     "output_type": "stream",
     "text": [
      "[]\n"
     ]
    }
   ],
   "source": [
    "print(list(module.named_buffers()))"
   ]
  },
  {
   "cell_type": "markdown",
   "metadata": {},
   "source": [
    "Pruning a Module\n",
    "================\n",
    "\n",
    "To prune a module (in this example, the `conv1` layer of our LeNet\n",
    "architecture), first select a pruning technique among those available in\n",
    "`torch.nn.utils.prune` (or\n",
    "[implement](#extending-torch-nn-utils-pruning-with-custom-pruning-functions)\n",
    "your own by subclassing `BasePruningMethod`). Then, specify the module\n",
    "and the name of the parameter to prune within that module. Finally,\n",
    "using the adequate keyword arguments required by the selected pruning\n",
    "technique, specify the pruning parameters.\n",
    "\n",
    "In this example, we will prune at random 30% of the connections in the\n",
    "parameter named `weight` in the `conv1` layer. The module is passed as\n",
    "the first argument to the function; `name` identifies the parameter\n",
    "within that module using its string identifier; and `amount` indicates\n",
    "either the percentage of connections to prune (if it is a float between\n",
    "0. and 1.), or the absolute number of connections to prune (if it is a\n",
    "non-negative integer).\n"
   ]
  },
  {
   "cell_type": "code",
   "execution_count": 6,
   "metadata": {
    "collapsed": false,
    "jupyter": {
     "outputs_hidden": false
    }
   },
   "outputs": [
    {
     "data": {
      "text/plain": [
       "Conv2d(1, 6, kernel_size=(5, 5), stride=(1, 1))"
      ]
     },
     "execution_count": 6,
     "metadata": {},
     "output_type": "execute_result"
    }
   ],
   "source": [
    "prune.random_unstructured(module, name=\"weight\", amount=0.3)"
   ]
  },
  {
   "cell_type": "markdown",
   "metadata": {},
   "source": [
    "Pruning acts by removing `weight` from the parameters and replacing it\n",
    "with a new parameter called `weight_orig` (i.e. appending `\"_orig\"` to\n",
    "the initial parameter `name`). `weight_orig` stores the unpruned version\n",
    "of the tensor. The `bias` was not pruned, so it will remain intact.\n"
   ]
  },
  {
   "cell_type": "code",
   "execution_count": 7,
   "metadata": {
    "collapsed": false,
    "jupyter": {
     "outputs_hidden": false
    }
   },
   "outputs": [
    {
     "name": "stdout",
     "output_type": "stream",
     "text": [
      "[('bias', Parameter containing:\n",
      "tensor([ 0.1309, -0.0549, -0.1327, -0.0229,  0.1234,  0.0908], device='cuda:0',\n",
      "       requires_grad=True)), ('weight_orig', Parameter containing:\n",
      "tensor([[[[-1.8933e-01, -1.2228e-01,  1.1060e-01,  1.3977e-01,  1.5012e-01],\n",
      "          [-1.2594e-01, -4.1920e-02,  9.8963e-02, -1.5159e-01,  8.0946e-02],\n",
      "          [ 3.2531e-02, -9.9406e-02, -1.3747e-01,  9.2051e-02,  4.9368e-02],\n",
      "          [-9.2733e-02,  5.6737e-02, -8.2500e-02,  1.1898e-01, -5.6817e-02],\n",
      "          [ 1.4319e-01,  1.5837e-02, -4.5593e-02,  4.1479e-02,  4.6965e-02]]],\n",
      "\n",
      "\n",
      "        [[[ 1.7819e-01, -1.9794e-01, -1.4520e-01,  3.0393e-02,  6.6795e-02],\n",
      "          [-2.1123e-02,  1.7833e-01, -1.5626e-01, -2.0735e-02,  8.0733e-02],\n",
      "          [-1.7620e-01,  7.9979e-02,  1.4170e-01, -9.6881e-02, -1.2058e-01],\n",
      "          [ 9.0285e-02, -1.7996e-01, -1.8906e-01, -1.7591e-01,  1.4062e-02],\n",
      "          [-1.5610e-01, -1.7356e-01, -3.4132e-02, -3.7753e-02,  1.9573e-01]]],\n",
      "\n",
      "\n",
      "        [[[ 1.9412e-01,  1.1285e-01,  2.9341e-03, -1.5073e-01,  1.9376e-01],\n",
      "          [-8.6163e-02,  2.0159e-02, -1.7440e-04,  1.5028e-01, -3.4078e-02],\n",
      "          [ 1.4343e-01,  1.5757e-01, -1.9460e-01, -1.4789e-01, -7.8595e-02],\n",
      "          [ 1.7928e-01,  3.3843e-02,  1.3017e-01,  1.6632e-01, -1.6838e-01],\n",
      "          [-1.5982e-01,  1.8484e-01, -1.7469e-01,  9.0083e-02, -8.4952e-02]]],\n",
      "\n",
      "\n",
      "        [[[ 1.7396e-01,  4.7653e-02,  1.5594e-01, -1.8327e-01, -1.3231e-01],\n",
      "          [-1.6699e-01, -5.0175e-02, -2.7079e-02, -9.1940e-02,  6.3662e-02],\n",
      "          [ 6.7896e-03,  1.0296e-01,  1.0693e-02, -4.1503e-02,  1.7078e-01],\n",
      "          [-7.8061e-02,  1.7156e-01, -3.2991e-03,  2.6077e-02, -1.2407e-01],\n",
      "          [-1.7327e-02,  4.8222e-02,  9.7961e-02, -1.0400e-01,  1.6335e-01]]],\n",
      "\n",
      "\n",
      "        [[[-4.1508e-02, -6.5618e-02, -1.4095e-01, -1.7235e-01,  1.0942e-01],\n",
      "          [ 1.1250e-01, -2.4365e-03, -2.0254e-02, -1.8738e-01,  6.0640e-02],\n",
      "          [-1.6497e-01,  5.4306e-02, -1.2376e-01,  9.6655e-02,  7.2933e-02],\n",
      "          [ 5.4799e-02,  8.6899e-02, -5.9952e-02,  1.9998e-01, -1.8144e-02],\n",
      "          [ 1.6271e-01, -5.4605e-02, -1.3990e-01,  1.6033e-01, -1.4520e-01]]],\n",
      "\n",
      "\n",
      "        [[[-1.1593e-01, -1.0908e-01, -9.1826e-02, -7.7723e-02, -1.9332e-01],\n",
      "          [ 1.6267e-01,  1.3136e-01, -1.9225e-01, -1.2112e-02,  1.8790e-01],\n",
      "          [-1.4221e-01, -8.4449e-02, -1.9593e-02,  1.8368e-02,  4.2265e-02],\n",
      "          [-4.5177e-02,  1.6961e-02,  6.0044e-02,  1.7229e-01,  7.4935e-04],\n",
      "          [-1.7848e-01, -6.4437e-03, -1.7914e-01, -7.7936e-02, -1.4736e-01]]]],\n",
      "       device='cuda:0', requires_grad=True))]\n"
     ]
    }
   ],
   "source": [
    "print(list(module.named_parameters()))"
   ]
  },
  {
   "cell_type": "markdown",
   "metadata": {},
   "source": [
    "The pruning mask generated by the pruning technique selected above is\n",
    "saved as a module buffer named `weight_mask` (i.e. appending `\"_mask\"`\n",
    "to the initial parameter `name`).\n"
   ]
  },
  {
   "cell_type": "code",
   "execution_count": 8,
   "metadata": {
    "collapsed": false,
    "jupyter": {
     "outputs_hidden": false
    }
   },
   "outputs": [
    {
     "name": "stdout",
     "output_type": "stream",
     "text": [
      "[('weight_mask', tensor([[[[1., 1., 1., 1., 0.],\n",
      "          [1., 1., 1., 1., 1.],\n",
      "          [0., 1., 1., 1., 0.],\n",
      "          [1., 1., 1., 0., 1.],\n",
      "          [1., 1., 1., 1., 0.]]],\n",
      "\n",
      "\n",
      "        [[[1., 0., 1., 0., 0.],\n",
      "          [0., 1., 0., 0., 1.],\n",
      "          [0., 0., 1., 0., 0.],\n",
      "          [1., 1., 0., 1., 1.],\n",
      "          [1., 1., 1., 1., 1.]]],\n",
      "\n",
      "\n",
      "        [[[1., 1., 0., 1., 0.],\n",
      "          [1., 0., 0., 1., 1.],\n",
      "          [1., 1., 0., 0., 1.],\n",
      "          [1., 1., 1., 0., 0.],\n",
      "          [0., 1., 0., 1., 1.]]],\n",
      "\n",
      "\n",
      "        [[[1., 1., 1., 1., 1.],\n",
      "          [1., 0., 1., 0., 0.],\n",
      "          [1., 1., 1., 1., 0.],\n",
      "          [0., 1., 1., 0., 1.],\n",
      "          [1., 0., 1., 1., 0.]]],\n",
      "\n",
      "\n",
      "        [[[1., 1., 1., 1., 0.],\n",
      "          [1., 1., 0., 1., 1.],\n",
      "          [1., 1., 1., 0., 1.],\n",
      "          [1., 0., 0., 1., 1.],\n",
      "          [1., 1., 1., 1., 1.]]],\n",
      "\n",
      "\n",
      "        [[[1., 1., 1., 1., 0.],\n",
      "          [1., 1., 1., 1., 0.],\n",
      "          [1., 1., 1., 1., 1.],\n",
      "          [1., 1., 1., 1., 1.],\n",
      "          [0., 0., 1., 0., 0.]]]], device='cuda:0'))]\n"
     ]
    }
   ],
   "source": [
    "print(list(module.named_buffers()))"
   ]
  },
  {
   "cell_type": "markdown",
   "metadata": {},
   "source": [
    "For the forward pass to work without modification, the `weight`\n",
    "attribute needs to exist. The pruning techniques implemented in\n",
    "`torch.nn.utils.prune` compute the pruned version of the weight (by\n",
    "combining the mask with the original parameter) and store them in the\n",
    "attribute `weight`. Note, this is no longer a parameter of the `module`,\n",
    "it is now simply an attribute.\n"
   ]
  },
  {
   "cell_type": "code",
   "execution_count": 9,
   "metadata": {
    "collapsed": false,
    "jupyter": {
     "outputs_hidden": false
    }
   },
   "outputs": [
    {
     "name": "stdout",
     "output_type": "stream",
     "text": [
      "tensor([[[[-0.1893, -0.1223,  0.1106,  0.1398,  0.0000],\n",
      "          [-0.1259, -0.0419,  0.0990, -0.1516,  0.0809],\n",
      "          [ 0.0000, -0.0994, -0.1375,  0.0921,  0.0000],\n",
      "          [-0.0927,  0.0567, -0.0825,  0.0000, -0.0568],\n",
      "          [ 0.1432,  0.0158, -0.0456,  0.0415,  0.0000]]],\n",
      "\n",
      "\n",
      "        [[[ 0.1782, -0.0000, -0.1452,  0.0000,  0.0000],\n",
      "          [-0.0000,  0.1783, -0.0000, -0.0000,  0.0807],\n",
      "          [-0.0000,  0.0000,  0.1417, -0.0000, -0.0000],\n",
      "          [ 0.0903, -0.1800, -0.0000, -0.1759,  0.0141],\n",
      "          [-0.1561, -0.1736, -0.0341, -0.0378,  0.1957]]],\n",
      "\n",
      "\n",
      "        [[[ 0.1941,  0.1128,  0.0000, -0.1507,  0.0000],\n",
      "          [-0.0862,  0.0000, -0.0000,  0.1503, -0.0341],\n",
      "          [ 0.1434,  0.1576, -0.0000, -0.0000, -0.0786],\n",
      "          [ 0.1793,  0.0338,  0.1302,  0.0000, -0.0000],\n",
      "          [-0.0000,  0.1848, -0.0000,  0.0901, -0.0850]]],\n",
      "\n",
      "\n",
      "        [[[ 0.1740,  0.0477,  0.1559, -0.1833, -0.1323],\n",
      "          [-0.1670, -0.0000, -0.0271, -0.0000,  0.0000],\n",
      "          [ 0.0068,  0.1030,  0.0107, -0.0415,  0.0000],\n",
      "          [-0.0000,  0.1716, -0.0033,  0.0000, -0.1241],\n",
      "          [-0.0173,  0.0000,  0.0980, -0.1040,  0.0000]]],\n",
      "\n",
      "\n",
      "        [[[-0.0415, -0.0656, -0.1409, -0.1723,  0.0000],\n",
      "          [ 0.1125, -0.0024, -0.0000, -0.1874,  0.0606],\n",
      "          [-0.1650,  0.0543, -0.1238,  0.0000,  0.0729],\n",
      "          [ 0.0548,  0.0000, -0.0000,  0.2000, -0.0181],\n",
      "          [ 0.1627, -0.0546, -0.1399,  0.1603, -0.1452]]],\n",
      "\n",
      "\n",
      "        [[[-0.1159, -0.1091, -0.0918, -0.0777, -0.0000],\n",
      "          [ 0.1627,  0.1314, -0.1922, -0.0121,  0.0000],\n",
      "          [-0.1422, -0.0844, -0.0196,  0.0184,  0.0423],\n",
      "          [-0.0452,  0.0170,  0.0600,  0.1723,  0.0007],\n",
      "          [-0.0000, -0.0000, -0.1791, -0.0000, -0.0000]]]], device='cuda:0',\n",
      "       grad_fn=<MulBackward0>)\n"
     ]
    }
   ],
   "source": [
    "print(module.weight)"
   ]
  },
  {
   "cell_type": "markdown",
   "metadata": {},
   "source": [
    "Finally, pruning is applied prior to each forward pass using PyTorch\\'s\n",
    "`forward_pre_hooks`. Specifically, when the `module` is pruned, as we\n",
    "have done here, it will acquire a `forward_pre_hook` for each parameter\n",
    "associated with it that gets pruned. In this case, since we have so far\n",
    "only pruned the original parameter named `weight`, only one hook will be\n",
    "present.\n"
   ]
  },
  {
   "cell_type": "code",
   "execution_count": 10,
   "metadata": {
    "collapsed": false,
    "jupyter": {
     "outputs_hidden": false
    }
   },
   "outputs": [
    {
     "name": "stdout",
     "output_type": "stream",
     "text": [
      "OrderedDict([(0, <torch.nn.utils.prune.RandomUnstructured object at 0x7f49a6b76a60>)])\n"
     ]
    }
   ],
   "source": [
    "print(module._forward_pre_hooks)"
   ]
  },
  {
   "cell_type": "markdown",
   "metadata": {},
   "source": [
    "For completeness, we can now prune the `bias` too, to see how the\n",
    "parameters, buffers, hooks, and attributes of the `module` change. Just\n",
    "for the sake of trying out another pruning technique, here we prune the\n",
    "3 smallest entries in the bias by L1 norm, as implemented in the\n",
    "`l1_unstructured` pruning function.\n"
   ]
  },
  {
   "cell_type": "code",
   "execution_count": 11,
   "metadata": {
    "collapsed": false,
    "jupyter": {
     "outputs_hidden": false
    }
   },
   "outputs": [
    {
     "data": {
      "text/plain": [
       "Conv2d(1, 6, kernel_size=(5, 5), stride=(1, 1))"
      ]
     },
     "execution_count": 11,
     "metadata": {},
     "output_type": "execute_result"
    }
   ],
   "source": [
    "prune.l1_unstructured(module, name=\"bias\", amount=3)"
   ]
  },
  {
   "cell_type": "markdown",
   "metadata": {},
   "source": [
    "We now expect the named parameters to include both `weight_orig` (from\n",
    "before) and `bias_orig`. The buffers will include `weight_mask` and\n",
    "`bias_mask`. The pruned versions of the two tensors will exist as module\n",
    "attributes, and the module will now have two `forward_pre_hooks`.\n"
   ]
  },
  {
   "cell_type": "code",
   "execution_count": 12,
   "metadata": {
    "collapsed": false,
    "jupyter": {
     "outputs_hidden": false
    }
   },
   "outputs": [
    {
     "name": "stdout",
     "output_type": "stream",
     "text": [
      "[('weight_orig', Parameter containing:\n",
      "tensor([[[[-1.8933e-01, -1.2228e-01,  1.1060e-01,  1.3977e-01,  1.5012e-01],\n",
      "          [-1.2594e-01, -4.1920e-02,  9.8963e-02, -1.5159e-01,  8.0946e-02],\n",
      "          [ 3.2531e-02, -9.9406e-02, -1.3747e-01,  9.2051e-02,  4.9368e-02],\n",
      "          [-9.2733e-02,  5.6737e-02, -8.2500e-02,  1.1898e-01, -5.6817e-02],\n",
      "          [ 1.4319e-01,  1.5837e-02, -4.5593e-02,  4.1479e-02,  4.6965e-02]]],\n",
      "\n",
      "\n",
      "        [[[ 1.7819e-01, -1.9794e-01, -1.4520e-01,  3.0393e-02,  6.6795e-02],\n",
      "          [-2.1123e-02,  1.7833e-01, -1.5626e-01, -2.0735e-02,  8.0733e-02],\n",
      "          [-1.7620e-01,  7.9979e-02,  1.4170e-01, -9.6881e-02, -1.2058e-01],\n",
      "          [ 9.0285e-02, -1.7996e-01, -1.8906e-01, -1.7591e-01,  1.4062e-02],\n",
      "          [-1.5610e-01, -1.7356e-01, -3.4132e-02, -3.7753e-02,  1.9573e-01]]],\n",
      "\n",
      "\n",
      "        [[[ 1.9412e-01,  1.1285e-01,  2.9341e-03, -1.5073e-01,  1.9376e-01],\n",
      "          [-8.6163e-02,  2.0159e-02, -1.7440e-04,  1.5028e-01, -3.4078e-02],\n",
      "          [ 1.4343e-01,  1.5757e-01, -1.9460e-01, -1.4789e-01, -7.8595e-02],\n",
      "          [ 1.7928e-01,  3.3843e-02,  1.3017e-01,  1.6632e-01, -1.6838e-01],\n",
      "          [-1.5982e-01,  1.8484e-01, -1.7469e-01,  9.0083e-02, -8.4952e-02]]],\n",
      "\n",
      "\n",
      "        [[[ 1.7396e-01,  4.7653e-02,  1.5594e-01, -1.8327e-01, -1.3231e-01],\n",
      "          [-1.6699e-01, -5.0175e-02, -2.7079e-02, -9.1940e-02,  6.3662e-02],\n",
      "          [ 6.7896e-03,  1.0296e-01,  1.0693e-02, -4.1503e-02,  1.7078e-01],\n",
      "          [-7.8061e-02,  1.7156e-01, -3.2991e-03,  2.6077e-02, -1.2407e-01],\n",
      "          [-1.7327e-02,  4.8222e-02,  9.7961e-02, -1.0400e-01,  1.6335e-01]]],\n",
      "\n",
      "\n",
      "        [[[-4.1508e-02, -6.5618e-02, -1.4095e-01, -1.7235e-01,  1.0942e-01],\n",
      "          [ 1.1250e-01, -2.4365e-03, -2.0254e-02, -1.8738e-01,  6.0640e-02],\n",
      "          [-1.6497e-01,  5.4306e-02, -1.2376e-01,  9.6655e-02,  7.2933e-02],\n",
      "          [ 5.4799e-02,  8.6899e-02, -5.9952e-02,  1.9998e-01, -1.8144e-02],\n",
      "          [ 1.6271e-01, -5.4605e-02, -1.3990e-01,  1.6033e-01, -1.4520e-01]]],\n",
      "\n",
      "\n",
      "        [[[-1.1593e-01, -1.0908e-01, -9.1826e-02, -7.7723e-02, -1.9332e-01],\n",
      "          [ 1.6267e-01,  1.3136e-01, -1.9225e-01, -1.2112e-02,  1.8790e-01],\n",
      "          [-1.4221e-01, -8.4449e-02, -1.9593e-02,  1.8368e-02,  4.2265e-02],\n",
      "          [-4.5177e-02,  1.6961e-02,  6.0044e-02,  1.7229e-01,  7.4935e-04],\n",
      "          [-1.7848e-01, -6.4437e-03, -1.7914e-01, -7.7936e-02, -1.4736e-01]]]],\n",
      "       device='cuda:0', requires_grad=True)), ('bias_orig', Parameter containing:\n",
      "tensor([ 0.1309, -0.0549, -0.1327, -0.0229,  0.1234,  0.0908], device='cuda:0',\n",
      "       requires_grad=True))]\n"
     ]
    }
   ],
   "source": [
    "print(list(module.named_parameters()))"
   ]
  },
  {
   "cell_type": "code",
   "execution_count": 13,
   "metadata": {
    "collapsed": false,
    "jupyter": {
     "outputs_hidden": false
    }
   },
   "outputs": [
    {
     "name": "stdout",
     "output_type": "stream",
     "text": [
      "[('weight_mask', tensor([[[[1., 1., 1., 1., 0.],\n",
      "          [1., 1., 1., 1., 1.],\n",
      "          [0., 1., 1., 1., 0.],\n",
      "          [1., 1., 1., 0., 1.],\n",
      "          [1., 1., 1., 1., 0.]]],\n",
      "\n",
      "\n",
      "        [[[1., 0., 1., 0., 0.],\n",
      "          [0., 1., 0., 0., 1.],\n",
      "          [0., 0., 1., 0., 0.],\n",
      "          [1., 1., 0., 1., 1.],\n",
      "          [1., 1., 1., 1., 1.]]],\n",
      "\n",
      "\n",
      "        [[[1., 1., 0., 1., 0.],\n",
      "          [1., 0., 0., 1., 1.],\n",
      "          [1., 1., 0., 0., 1.],\n",
      "          [1., 1., 1., 0., 0.],\n",
      "          [0., 1., 0., 1., 1.]]],\n",
      "\n",
      "\n",
      "        [[[1., 1., 1., 1., 1.],\n",
      "          [1., 0., 1., 0., 0.],\n",
      "          [1., 1., 1., 1., 0.],\n",
      "          [0., 1., 1., 0., 1.],\n",
      "          [1., 0., 1., 1., 0.]]],\n",
      "\n",
      "\n",
      "        [[[1., 1., 1., 1., 0.],\n",
      "          [1., 1., 0., 1., 1.],\n",
      "          [1., 1., 1., 0., 1.],\n",
      "          [1., 0., 0., 1., 1.],\n",
      "          [1., 1., 1., 1., 1.]]],\n",
      "\n",
      "\n",
      "        [[[1., 1., 1., 1., 0.],\n",
      "          [1., 1., 1., 1., 0.],\n",
      "          [1., 1., 1., 1., 1.],\n",
      "          [1., 1., 1., 1., 1.],\n",
      "          [0., 0., 1., 0., 0.]]]], device='cuda:0')), ('bias_mask', tensor([1., 0., 1., 0., 1., 0.], device='cuda:0'))]\n"
     ]
    }
   ],
   "source": [
    "print(list(module.named_buffers()))"
   ]
  },
  {
   "cell_type": "code",
   "execution_count": 14,
   "metadata": {
    "collapsed": false,
    "jupyter": {
     "outputs_hidden": false
    }
   },
   "outputs": [
    {
     "name": "stdout",
     "output_type": "stream",
     "text": [
      "tensor([ 0.1309, -0.0000, -0.1327, -0.0000,  0.1234,  0.0000], device='cuda:0',\n",
      "       grad_fn=<MulBackward0>)\n"
     ]
    }
   ],
   "source": [
    "print(module.bias)"
   ]
  },
  {
   "cell_type": "code",
   "execution_count": 15,
   "metadata": {
    "collapsed": false,
    "jupyter": {
     "outputs_hidden": false
    }
   },
   "outputs": [
    {
     "name": "stdout",
     "output_type": "stream",
     "text": [
      "OrderedDict([(0, <torch.nn.utils.prune.RandomUnstructured object at 0x7f49a6b76a60>), (1, <torch.nn.utils.prune.L1Unstructured object at 0x7f4a4c22e5b0>)])\n"
     ]
    }
   ],
   "source": [
    "print(module._forward_pre_hooks)"
   ]
  },
  {
   "cell_type": "markdown",
   "metadata": {},
   "source": [
    "Iterative Pruning\n",
    "=================\n",
    "\n",
    "The same parameter in a module can be pruned multiple times, with the\n",
    "effect of the various pruning calls being equal to the combination of\n",
    "the various masks applied in series. The combination of a new mask with\n",
    "the old mask is handled by the `PruningContainer`\\'s `compute_mask`\n",
    "method.\n",
    "\n",
    "Say, for example, that we now want to further prune `module.weight`,\n",
    "this time using structured pruning along the 0th axis of the tensor (the\n",
    "0th axis corresponds to the output channels of the convolutional layer\n",
    "and has dimensionality 6 for `conv1`), based on the channels\\' L2 norm.\n",
    "This can be achieved using the `ln_structured` function, with `n=2` and\n",
    "`dim=0`.\n"
   ]
  },
  {
   "cell_type": "code",
   "execution_count": 16,
   "metadata": {
    "collapsed": false,
    "jupyter": {
     "outputs_hidden": false
    }
   },
   "outputs": [
    {
     "name": "stdout",
     "output_type": "stream",
     "text": [
      "tensor([[[[-0.0000, -0.0000,  0.0000,  0.0000,  0.0000],\n",
      "          [-0.0000, -0.0000,  0.0000, -0.0000,  0.0000],\n",
      "          [ 0.0000, -0.0000, -0.0000,  0.0000,  0.0000],\n",
      "          [-0.0000,  0.0000, -0.0000,  0.0000, -0.0000],\n",
      "          [ 0.0000,  0.0000, -0.0000,  0.0000,  0.0000]]],\n",
      "\n",
      "\n",
      "        [[[ 0.1782, -0.0000, -0.1452,  0.0000,  0.0000],\n",
      "          [-0.0000,  0.1783, -0.0000, -0.0000,  0.0807],\n",
      "          [-0.0000,  0.0000,  0.1417, -0.0000, -0.0000],\n",
      "          [ 0.0903, -0.1800, -0.0000, -0.1759,  0.0141],\n",
      "          [-0.1561, -0.1736, -0.0341, -0.0378,  0.1957]]],\n",
      "\n",
      "\n",
      "        [[[ 0.1941,  0.1128,  0.0000, -0.1507,  0.0000],\n",
      "          [-0.0862,  0.0000, -0.0000,  0.1503, -0.0341],\n",
      "          [ 0.1434,  0.1576, -0.0000, -0.0000, -0.0786],\n",
      "          [ 0.1793,  0.0338,  0.1302,  0.0000, -0.0000],\n",
      "          [-0.0000,  0.1848, -0.0000,  0.0901, -0.0850]]],\n",
      "\n",
      "\n",
      "        [[[ 0.0000,  0.0000,  0.0000, -0.0000, -0.0000],\n",
      "          [-0.0000, -0.0000, -0.0000, -0.0000,  0.0000],\n",
      "          [ 0.0000,  0.0000,  0.0000, -0.0000,  0.0000],\n",
      "          [-0.0000,  0.0000, -0.0000,  0.0000, -0.0000],\n",
      "          [-0.0000,  0.0000,  0.0000, -0.0000,  0.0000]]],\n",
      "\n",
      "\n",
      "        [[[-0.0415, -0.0656, -0.1409, -0.1723,  0.0000],\n",
      "          [ 0.1125, -0.0024, -0.0000, -0.1874,  0.0606],\n",
      "          [-0.1650,  0.0543, -0.1238,  0.0000,  0.0729],\n",
      "          [ 0.0548,  0.0000, -0.0000,  0.2000, -0.0181],\n",
      "          [ 0.1627, -0.0546, -0.1399,  0.1603, -0.1452]]],\n",
      "\n",
      "\n",
      "        [[[-0.0000, -0.0000, -0.0000, -0.0000, -0.0000],\n",
      "          [ 0.0000,  0.0000, -0.0000, -0.0000,  0.0000],\n",
      "          [-0.0000, -0.0000, -0.0000,  0.0000,  0.0000],\n",
      "          [-0.0000,  0.0000,  0.0000,  0.0000,  0.0000],\n",
      "          [-0.0000, -0.0000, -0.0000, -0.0000, -0.0000]]]], device='cuda:0',\n",
      "       grad_fn=<MulBackward0>)\n"
     ]
    }
   ],
   "source": [
    "prune.ln_structured(module, name=\"weight\", amount=0.5, n=2, dim=0)\n",
    "\n",
    "# As we can verify, this will zero out all the connections corresponding to \n",
    "# 50% (3 out of 6) of the channels, while preserving the action of the \n",
    "# previous mask.\n",
    "print(module.weight)"
   ]
  },
  {
   "cell_type": "markdown",
   "metadata": {},
   "source": [
    "The corresponding hook will now be of type\n",
    "`torch.nn.utils.prune.PruningContainer`, and will store the history of\n",
    "pruning applied to the `weight` parameter.\n"
   ]
  },
  {
   "cell_type": "code",
   "execution_count": 17,
   "metadata": {
    "collapsed": false,
    "jupyter": {
     "outputs_hidden": false
    }
   },
   "outputs": [
    {
     "name": "stdout",
     "output_type": "stream",
     "text": [
      "[<torch.nn.utils.prune.RandomUnstructured object at 0x7f49a6b76a60>, <torch.nn.utils.prune.LnStructured object at 0x7f49a6b7f6d0>]\n"
     ]
    }
   ],
   "source": [
    "for hook in module._forward_pre_hooks.values():\n",
    "    if hook._tensor_name == \"weight\":  # select out the correct hook\n",
    "        break\n",
    "\n",
    "print(list(hook))  # pruning history in the container"
   ]
  },
  {
   "cell_type": "markdown",
   "metadata": {},
   "source": [
    "Serializing a pruned model\n",
    "==========================\n",
    "\n",
    "All relevant tensors, including the mask buffers and the original\n",
    "parameters used to compute the pruned tensors are stored in the model\\'s\n",
    "`state_dict` and can therefore be easily serialized and saved, if\n",
    "needed.\n"
   ]
  },
  {
   "cell_type": "code",
   "execution_count": 18,
   "metadata": {
    "collapsed": false,
    "jupyter": {
     "outputs_hidden": false
    }
   },
   "outputs": [
    {
     "name": "stdout",
     "output_type": "stream",
     "text": [
      "odict_keys(['conv1.weight_orig', 'conv1.bias_orig', 'conv1.weight_mask', 'conv1.bias_mask', 'conv2.weight', 'conv2.bias', 'fc1.weight', 'fc1.bias', 'fc2.weight', 'fc2.bias', 'fc3.weight', 'fc3.bias'])\n"
     ]
    }
   ],
   "source": [
    "print(model.state_dict().keys())"
   ]
  },
  {
   "cell_type": "markdown",
   "metadata": {},
   "source": [
    "Remove pruning re-parametrization\n",
    "=================================\n",
    "\n",
    "To make the pruning permanent, remove the re-parametrization in terms of\n",
    "`weight_orig` and `weight_mask`, and remove the `forward_pre_hook`, we\n",
    "can use the `remove` functionality from `torch.nn.utils.prune`. Note\n",
    "that this doesn\\'t undo the pruning, as if it never happened. It simply\n",
    "makes it permanent, instead, by reassigning the parameter `weight` to\n",
    "the model parameters, in its pruned version.\n"
   ]
  },
  {
   "cell_type": "markdown",
   "metadata": {},
   "source": [
    "Prior to removing the re-parametrization:\n"
   ]
  },
  {
   "cell_type": "code",
   "execution_count": 19,
   "metadata": {
    "collapsed": false,
    "jupyter": {
     "outputs_hidden": false
    }
   },
   "outputs": [
    {
     "name": "stdout",
     "output_type": "stream",
     "text": [
      "[('weight_orig', Parameter containing:\n",
      "tensor([[[[-1.8933e-01, -1.2228e-01,  1.1060e-01,  1.3977e-01,  1.5012e-01],\n",
      "          [-1.2594e-01, -4.1920e-02,  9.8963e-02, -1.5159e-01,  8.0946e-02],\n",
      "          [ 3.2531e-02, -9.9406e-02, -1.3747e-01,  9.2051e-02,  4.9368e-02],\n",
      "          [-9.2733e-02,  5.6737e-02, -8.2500e-02,  1.1898e-01, -5.6817e-02],\n",
      "          [ 1.4319e-01,  1.5837e-02, -4.5593e-02,  4.1479e-02,  4.6965e-02]]],\n",
      "\n",
      "\n",
      "        [[[ 1.7819e-01, -1.9794e-01, -1.4520e-01,  3.0393e-02,  6.6795e-02],\n",
      "          [-2.1123e-02,  1.7833e-01, -1.5626e-01, -2.0735e-02,  8.0733e-02],\n",
      "          [-1.7620e-01,  7.9979e-02,  1.4170e-01, -9.6881e-02, -1.2058e-01],\n",
      "          [ 9.0285e-02, -1.7996e-01, -1.8906e-01, -1.7591e-01,  1.4062e-02],\n",
      "          [-1.5610e-01, -1.7356e-01, -3.4132e-02, -3.7753e-02,  1.9573e-01]]],\n",
      "\n",
      "\n",
      "        [[[ 1.9412e-01,  1.1285e-01,  2.9341e-03, -1.5073e-01,  1.9376e-01],\n",
      "          [-8.6163e-02,  2.0159e-02, -1.7440e-04,  1.5028e-01, -3.4078e-02],\n",
      "          [ 1.4343e-01,  1.5757e-01, -1.9460e-01, -1.4789e-01, -7.8595e-02],\n",
      "          [ 1.7928e-01,  3.3843e-02,  1.3017e-01,  1.6632e-01, -1.6838e-01],\n",
      "          [-1.5982e-01,  1.8484e-01, -1.7469e-01,  9.0083e-02, -8.4952e-02]]],\n",
      "\n",
      "\n",
      "        [[[ 1.7396e-01,  4.7653e-02,  1.5594e-01, -1.8327e-01, -1.3231e-01],\n",
      "          [-1.6699e-01, -5.0175e-02, -2.7079e-02, -9.1940e-02,  6.3662e-02],\n",
      "          [ 6.7896e-03,  1.0296e-01,  1.0693e-02, -4.1503e-02,  1.7078e-01],\n",
      "          [-7.8061e-02,  1.7156e-01, -3.2991e-03,  2.6077e-02, -1.2407e-01],\n",
      "          [-1.7327e-02,  4.8222e-02,  9.7961e-02, -1.0400e-01,  1.6335e-01]]],\n",
      "\n",
      "\n",
      "        [[[-4.1508e-02, -6.5618e-02, -1.4095e-01, -1.7235e-01,  1.0942e-01],\n",
      "          [ 1.1250e-01, -2.4365e-03, -2.0254e-02, -1.8738e-01,  6.0640e-02],\n",
      "          [-1.6497e-01,  5.4306e-02, -1.2376e-01,  9.6655e-02,  7.2933e-02],\n",
      "          [ 5.4799e-02,  8.6899e-02, -5.9952e-02,  1.9998e-01, -1.8144e-02],\n",
      "          [ 1.6271e-01, -5.4605e-02, -1.3990e-01,  1.6033e-01, -1.4520e-01]]],\n",
      "\n",
      "\n",
      "        [[[-1.1593e-01, -1.0908e-01, -9.1826e-02, -7.7723e-02, -1.9332e-01],\n",
      "          [ 1.6267e-01,  1.3136e-01, -1.9225e-01, -1.2112e-02,  1.8790e-01],\n",
      "          [-1.4221e-01, -8.4449e-02, -1.9593e-02,  1.8368e-02,  4.2265e-02],\n",
      "          [-4.5177e-02,  1.6961e-02,  6.0044e-02,  1.7229e-01,  7.4935e-04],\n",
      "          [-1.7848e-01, -6.4437e-03, -1.7914e-01, -7.7936e-02, -1.4736e-01]]]],\n",
      "       device='cuda:0', requires_grad=True)), ('bias_orig', Parameter containing:\n",
      "tensor([ 0.1309, -0.0549, -0.1327, -0.0229,  0.1234,  0.0908], device='cuda:0',\n",
      "       requires_grad=True))]\n"
     ]
    }
   ],
   "source": [
    "print(list(module.named_parameters()))"
   ]
  },
  {
   "cell_type": "code",
   "execution_count": 20,
   "metadata": {
    "collapsed": false,
    "jupyter": {
     "outputs_hidden": false
    }
   },
   "outputs": [
    {
     "name": "stdout",
     "output_type": "stream",
     "text": [
      "[('weight_mask', tensor([[[[0., 0., 0., 0., 0.],\n",
      "          [0., 0., 0., 0., 0.],\n",
      "          [0., 0., 0., 0., 0.],\n",
      "          [0., 0., 0., 0., 0.],\n",
      "          [0., 0., 0., 0., 0.]]],\n",
      "\n",
      "\n",
      "        [[[1., 0., 1., 0., 0.],\n",
      "          [0., 1., 0., 0., 1.],\n",
      "          [0., 0., 1., 0., 0.],\n",
      "          [1., 1., 0., 1., 1.],\n",
      "          [1., 1., 1., 1., 1.]]],\n",
      "\n",
      "\n",
      "        [[[1., 1., 0., 1., 0.],\n",
      "          [1., 0., 0., 1., 1.],\n",
      "          [1., 1., 0., 0., 1.],\n",
      "          [1., 1., 1., 0., 0.],\n",
      "          [0., 1., 0., 1., 1.]]],\n",
      "\n",
      "\n",
      "        [[[0., 0., 0., 0., 0.],\n",
      "          [0., 0., 0., 0., 0.],\n",
      "          [0., 0., 0., 0., 0.],\n",
      "          [0., 0., 0., 0., 0.],\n",
      "          [0., 0., 0., 0., 0.]]],\n",
      "\n",
      "\n",
      "        [[[1., 1., 1., 1., 0.],\n",
      "          [1., 1., 0., 1., 1.],\n",
      "          [1., 1., 1., 0., 1.],\n",
      "          [1., 0., 0., 1., 1.],\n",
      "          [1., 1., 1., 1., 1.]]],\n",
      "\n",
      "\n",
      "        [[[0., 0., 0., 0., 0.],\n",
      "          [0., 0., 0., 0., 0.],\n",
      "          [0., 0., 0., 0., 0.],\n",
      "          [0., 0., 0., 0., 0.],\n",
      "          [0., 0., 0., 0., 0.]]]], device='cuda:0')), ('bias_mask', tensor([1., 0., 1., 0., 1., 0.], device='cuda:0'))]\n"
     ]
    }
   ],
   "source": [
    "print(list(module.named_buffers()))"
   ]
  },
  {
   "cell_type": "code",
   "execution_count": 21,
   "metadata": {
    "collapsed": false,
    "jupyter": {
     "outputs_hidden": false
    }
   },
   "outputs": [
    {
     "name": "stdout",
     "output_type": "stream",
     "text": [
      "tensor([[[[-0.0000, -0.0000,  0.0000,  0.0000,  0.0000],\n",
      "          [-0.0000, -0.0000,  0.0000, -0.0000,  0.0000],\n",
      "          [ 0.0000, -0.0000, -0.0000,  0.0000,  0.0000],\n",
      "          [-0.0000,  0.0000, -0.0000,  0.0000, -0.0000],\n",
      "          [ 0.0000,  0.0000, -0.0000,  0.0000,  0.0000]]],\n",
      "\n",
      "\n",
      "        [[[ 0.1782, -0.0000, -0.1452,  0.0000,  0.0000],\n",
      "          [-0.0000,  0.1783, -0.0000, -0.0000,  0.0807],\n",
      "          [-0.0000,  0.0000,  0.1417, -0.0000, -0.0000],\n",
      "          [ 0.0903, -0.1800, -0.0000, -0.1759,  0.0141],\n",
      "          [-0.1561, -0.1736, -0.0341, -0.0378,  0.1957]]],\n",
      "\n",
      "\n",
      "        [[[ 0.1941,  0.1128,  0.0000, -0.1507,  0.0000],\n",
      "          [-0.0862,  0.0000, -0.0000,  0.1503, -0.0341],\n",
      "          [ 0.1434,  0.1576, -0.0000, -0.0000, -0.0786],\n",
      "          [ 0.1793,  0.0338,  0.1302,  0.0000, -0.0000],\n",
      "          [-0.0000,  0.1848, -0.0000,  0.0901, -0.0850]]],\n",
      "\n",
      "\n",
      "        [[[ 0.0000,  0.0000,  0.0000, -0.0000, -0.0000],\n",
      "          [-0.0000, -0.0000, -0.0000, -0.0000,  0.0000],\n",
      "          [ 0.0000,  0.0000,  0.0000, -0.0000,  0.0000],\n",
      "          [-0.0000,  0.0000, -0.0000,  0.0000, -0.0000],\n",
      "          [-0.0000,  0.0000,  0.0000, -0.0000,  0.0000]]],\n",
      "\n",
      "\n",
      "        [[[-0.0415, -0.0656, -0.1409, -0.1723,  0.0000],\n",
      "          [ 0.1125, -0.0024, -0.0000, -0.1874,  0.0606],\n",
      "          [-0.1650,  0.0543, -0.1238,  0.0000,  0.0729],\n",
      "          [ 0.0548,  0.0000, -0.0000,  0.2000, -0.0181],\n",
      "          [ 0.1627, -0.0546, -0.1399,  0.1603, -0.1452]]],\n",
      "\n",
      "\n",
      "        [[[-0.0000, -0.0000, -0.0000, -0.0000, -0.0000],\n",
      "          [ 0.0000,  0.0000, -0.0000, -0.0000,  0.0000],\n",
      "          [-0.0000, -0.0000, -0.0000,  0.0000,  0.0000],\n",
      "          [-0.0000,  0.0000,  0.0000,  0.0000,  0.0000],\n",
      "          [-0.0000, -0.0000, -0.0000, -0.0000, -0.0000]]]], device='cuda:0',\n",
      "       grad_fn=<MulBackward0>)\n"
     ]
    }
   ],
   "source": [
    "print(module.weight)"
   ]
  },
  {
   "cell_type": "markdown",
   "metadata": {},
   "source": [
    "After removing the re-parametrization:\n"
   ]
  },
  {
   "cell_type": "code",
   "execution_count": 22,
   "metadata": {
    "collapsed": false,
    "jupyter": {
     "outputs_hidden": false
    }
   },
   "outputs": [
    {
     "name": "stdout",
     "output_type": "stream",
     "text": [
      "[('bias_orig', Parameter containing:\n",
      "tensor([ 0.1309, -0.0549, -0.1327, -0.0229,  0.1234,  0.0908], device='cuda:0',\n",
      "       requires_grad=True)), ('weight', Parameter containing:\n",
      "tensor([[[[-0.0000, -0.0000,  0.0000,  0.0000,  0.0000],\n",
      "          [-0.0000, -0.0000,  0.0000, -0.0000,  0.0000],\n",
      "          [ 0.0000, -0.0000, -0.0000,  0.0000,  0.0000],\n",
      "          [-0.0000,  0.0000, -0.0000,  0.0000, -0.0000],\n",
      "          [ 0.0000,  0.0000, -0.0000,  0.0000,  0.0000]]],\n",
      "\n",
      "\n",
      "        [[[ 0.1782, -0.0000, -0.1452,  0.0000,  0.0000],\n",
      "          [-0.0000,  0.1783, -0.0000, -0.0000,  0.0807],\n",
      "          [-0.0000,  0.0000,  0.1417, -0.0000, -0.0000],\n",
      "          [ 0.0903, -0.1800, -0.0000, -0.1759,  0.0141],\n",
      "          [-0.1561, -0.1736, -0.0341, -0.0378,  0.1957]]],\n",
      "\n",
      "\n",
      "        [[[ 0.1941,  0.1128,  0.0000, -0.1507,  0.0000],\n",
      "          [-0.0862,  0.0000, -0.0000,  0.1503, -0.0341],\n",
      "          [ 0.1434,  0.1576, -0.0000, -0.0000, -0.0786],\n",
      "          [ 0.1793,  0.0338,  0.1302,  0.0000, -0.0000],\n",
      "          [-0.0000,  0.1848, -0.0000,  0.0901, -0.0850]]],\n",
      "\n",
      "\n",
      "        [[[ 0.0000,  0.0000,  0.0000, -0.0000, -0.0000],\n",
      "          [-0.0000, -0.0000, -0.0000, -0.0000,  0.0000],\n",
      "          [ 0.0000,  0.0000,  0.0000, -0.0000,  0.0000],\n",
      "          [-0.0000,  0.0000, -0.0000,  0.0000, -0.0000],\n",
      "          [-0.0000,  0.0000,  0.0000, -0.0000,  0.0000]]],\n",
      "\n",
      "\n",
      "        [[[-0.0415, -0.0656, -0.1409, -0.1723,  0.0000],\n",
      "          [ 0.1125, -0.0024, -0.0000, -0.1874,  0.0606],\n",
      "          [-0.1650,  0.0543, -0.1238,  0.0000,  0.0729],\n",
      "          [ 0.0548,  0.0000, -0.0000,  0.2000, -0.0181],\n",
      "          [ 0.1627, -0.0546, -0.1399,  0.1603, -0.1452]]],\n",
      "\n",
      "\n",
      "        [[[-0.0000, -0.0000, -0.0000, -0.0000, -0.0000],\n",
      "          [ 0.0000,  0.0000, -0.0000, -0.0000,  0.0000],\n",
      "          [-0.0000, -0.0000, -0.0000,  0.0000,  0.0000],\n",
      "          [-0.0000,  0.0000,  0.0000,  0.0000,  0.0000],\n",
      "          [-0.0000, -0.0000, -0.0000, -0.0000, -0.0000]]]], device='cuda:0',\n",
      "       requires_grad=True))]\n"
     ]
    }
   ],
   "source": [
    "prune.remove(module, 'weight')\n",
    "print(list(module.named_parameters()))"
   ]
  },
  {
   "cell_type": "code",
   "execution_count": 23,
   "metadata": {
    "collapsed": false,
    "jupyter": {
     "outputs_hidden": false
    }
   },
   "outputs": [
    {
     "name": "stdout",
     "output_type": "stream",
     "text": [
      "[('bias_mask', tensor([1., 0., 1., 0., 1., 0.], device='cuda:0'))]\n"
     ]
    }
   ],
   "source": [
    "print(list(module.named_buffers()))"
   ]
  },
  {
   "cell_type": "markdown",
   "metadata": {},
   "source": [
    "Pruning multiple parameters in a model\n",
    "======================================\n",
    "\n",
    "By specifying the desired pruning technique and parameters, we can\n",
    "easily prune multiple tensors in a network, perhaps according to their\n",
    "type, as we will see in this example.\n"
   ]
  },
  {
   "cell_type": "code",
   "execution_count": 24,
   "metadata": {
    "collapsed": false,
    "jupyter": {
     "outputs_hidden": false
    }
   },
   "outputs": [
    {
     "name": "stdout",
     "output_type": "stream",
     "text": [
      "dict_keys(['conv1.weight_mask', 'conv2.weight_mask', 'fc1.weight_mask', 'fc2.weight_mask', 'fc3.weight_mask'])\n"
     ]
    }
   ],
   "source": [
    "new_model = LeNet()\n",
    "for name, module in new_model.named_modules():\n",
    "    # prune 20% of connections in all 2D-conv layers \n",
    "    if isinstance(module, torch.nn.Conv2d):\n",
    "        prune.l1_unstructured(module, name='weight', amount=0.2)\n",
    "    # prune 40% of connections in all linear layers \n",
    "    elif isinstance(module, torch.nn.Linear):\n",
    "        prune.l1_unstructured(module, name='weight', amount=0.4)\n",
    "\n",
    "print(dict(new_model.named_buffers()).keys())  # to verify that all masks exist"
   ]
  },
  {
   "cell_type": "markdown",
   "metadata": {},
   "source": [
    "Global pruning\n",
    "==============\n",
    "\n",
    "So far, we only looked at what is usually referred to as \\\"local\\\"\n",
    "pruning, i.e. the practice of pruning tensors in a model one by one, by\n",
    "comparing the statistics (weight magnitude, activation, gradient, etc.)\n",
    "of each entry exclusively to the other entries in that tensor. However,\n",
    "a common and perhaps more powerful technique is to prune the model all\n",
    "at once, by removing (for example) the lowest 20% of connections across\n",
    "the whole model, instead of removing the lowest 20% of connections in\n",
    "each layer. This is likely to result in different pruning percentages\n",
    "per layer. Let\\'s see how to do that using `global_unstructured` from\n",
    "`torch.nn.utils.prune`.\n"
   ]
  },
  {
   "cell_type": "code",
   "execution_count": 25,
   "metadata": {
    "collapsed": false,
    "jupyter": {
     "outputs_hidden": false
    }
   },
   "outputs": [],
   "source": [
    "model = LeNet()\n",
    "\n",
    "parameters_to_prune = (\n",
    "    (model.conv1, 'weight'),\n",
    "    (model.conv2, 'weight'),\n",
    "    (model.fc1, 'weight'),\n",
    "    (model.fc2, 'weight'),\n",
    "    (model.fc3, 'weight'),\n",
    ")\n",
    "\n",
    "prune.global_unstructured(\n",
    "    parameters_to_prune,\n",
    "    pruning_method=prune.L1Unstructured,\n",
    "    amount=0.2,\n",
    ")"
   ]
  },
  {
   "cell_type": "markdown",
   "metadata": {},
   "source": [
    "Now we can check the sparsity induced in every pruned parameter, which\n",
    "will not be equal to 20% in each layer. However, the global sparsity\n",
    "will be (approximately) 20%.\n"
   ]
  },
  {
   "cell_type": "code",
   "execution_count": 26,
   "metadata": {
    "collapsed": false,
    "jupyter": {
     "outputs_hidden": false
    }
   },
   "outputs": [
    {
     "name": "stdout",
     "output_type": "stream",
     "text": [
      "Sparsity in conv1.weight: 4.67%\n",
      "Sparsity in conv2.weight: 13.67%\n",
      "Sparsity in fc1.weight: 22.09%\n",
      "Sparsity in fc2.weight: 12.66%\n",
      "Sparsity in fc3.weight: 9.29%\n",
      "Global sparsity: 20.00%\n"
     ]
    }
   ],
   "source": [
    "print(\n",
    "    \"Sparsity in conv1.weight: {:.2f}%\".format(\n",
    "        100. * float(torch.sum(model.conv1.weight == 0))\n",
    "        / float(model.conv1.weight.nelement())\n",
    "    )\n",
    ")\n",
    "print(\n",
    "    \"Sparsity in conv2.weight: {:.2f}%\".format(\n",
    "        100. * float(torch.sum(model.conv2.weight == 0))\n",
    "        / float(model.conv2.weight.nelement())\n",
    "    )\n",
    ")\n",
    "print(\n",
    "    \"Sparsity in fc1.weight: {:.2f}%\".format(\n",
    "        100. * float(torch.sum(model.fc1.weight == 0))\n",
    "        / float(model.fc1.weight.nelement())\n",
    "    )\n",
    ")\n",
    "print(\n",
    "    \"Sparsity in fc2.weight: {:.2f}%\".format(\n",
    "        100. * float(torch.sum(model.fc2.weight == 0))\n",
    "        / float(model.fc2.weight.nelement())\n",
    "    )\n",
    ")\n",
    "print(\n",
    "    \"Sparsity in fc3.weight: {:.2f}%\".format(\n",
    "        100. * float(torch.sum(model.fc3.weight == 0))\n",
    "        / float(model.fc3.weight.nelement())\n",
    "    )\n",
    ")\n",
    "print(\n",
    "    \"Global sparsity: {:.2f}%\".format(\n",
    "        100. * float(\n",
    "            torch.sum(model.conv1.weight == 0)\n",
    "            + torch.sum(model.conv2.weight == 0)\n",
    "            + torch.sum(model.fc1.weight == 0)\n",
    "            + torch.sum(model.fc2.weight == 0)\n",
    "            + torch.sum(model.fc3.weight == 0)\n",
    "        )\n",
    "        / float(\n",
    "            model.conv1.weight.nelement()\n",
    "            + model.conv2.weight.nelement()\n",
    "            + model.fc1.weight.nelement()\n",
    "            + model.fc2.weight.nelement()\n",
    "            + model.fc3.weight.nelement()\n",
    "        )\n",
    "    )\n",
    ")"
   ]
  },
  {
   "cell_type": "markdown",
   "metadata": {},
   "source": [
    "Extending `torch.nn.utils.prune` with custom pruning functions\n",
    "==============================================================\n",
    "\n",
    "To implement your own pruning function, you can extend the\n",
    "`nn.utils.prune` module by subclassing the `BasePruningMethod` base\n",
    "class, the same way all other pruning methods do. The base class\n",
    "implements the following methods for you: `__call__`, `apply_mask`,\n",
    "`apply`, `prune`, and `remove`. Beyond some special cases, you\n",
    "shouldn\\'t have to reimplement these methods for your new pruning\n",
    "technique. You will, however, have to implement `__init__` (the\n",
    "constructor), and `compute_mask` (the instructions on how to compute the\n",
    "mask for the given tensor according to the logic of your pruning\n",
    "technique). In addition, you will have to specify which type of pruning\n",
    "this technique implements (supported options are `global`, `structured`,\n",
    "and `unstructured`). This is needed to determine how to combine masks in\n",
    "the case in which pruning is applied iteratively. In other words, when\n",
    "pruning a prepruned parameter, the current pruning technique is expected\n",
    "to act on the unpruned portion of the parameter. Specifying the\n",
    "`PRUNING_TYPE` will enable the `PruningContainer` (which handles the\n",
    "iterative application of pruning masks) to correctly identify the slice\n",
    "of the parameter to prune.\n",
    "\n",
    "Let\\'s assume, for example, that you want to implement a pruning\n",
    "technique that prunes every other entry in a tensor (or \\-- if the\n",
    "tensor has previously been pruned \\-- in the remaining unpruned portion\n",
    "of the tensor). This will be of `PRUNING_TYPE='unstructured'` because it\n",
    "acts on individual connections in a layer and not on entire\n",
    "units/channels (`'structured'`), or across different parameters\n",
    "(`'global'`).\n"
   ]
  },
  {
   "cell_type": "code",
   "execution_count": 27,
   "metadata": {
    "collapsed": false,
    "jupyter": {
     "outputs_hidden": false
    }
   },
   "outputs": [],
   "source": [
    "class FooBarPruningMethod(prune.BasePruningMethod):\n",
    "    \"\"\"Prune every other entry in a tensor\n",
    "    \"\"\"\n",
    "    PRUNING_TYPE = 'unstructured'\n",
    "\n",
    "    def compute_mask(self, t, default_mask):\n",
    "        mask = default_mask.clone()\n",
    "        mask.view(-1)[::2] = 0 \n",
    "        return mask"
   ]
  },
  {
   "cell_type": "markdown",
   "metadata": {},
   "source": [
    "Now, to apply this to a parameter in an `nn.Module`, you should also\n",
    "provide a simple function that instantiates the method and applies it.\n"
   ]
  },
  {
   "cell_type": "code",
   "execution_count": 28,
   "metadata": {
    "collapsed": false,
    "jupyter": {
     "outputs_hidden": false
    }
   },
   "outputs": [],
   "source": [
    "def foobar_unstructured(module, name):\n",
    "    \"\"\"Prunes tensor corresponding to parameter called `name` in `module`\n",
    "    by removing every other entry in the tensors.\n",
    "    Modifies module in place (and also return the modified module) \n",
    "    by:\n",
    "    1) adding a named buffer called `name+'_mask'` corresponding to the \n",
    "    binary mask applied to the parameter `name` by the pruning method.\n",
    "    The parameter `name` is replaced by its pruned version, while the \n",
    "    original (unpruned) parameter is stored in a new parameter named \n",
    "    `name+'_orig'`.\n",
    "\n",
    "    Args:\n",
    "        module (nn.Module): module containing the tensor to prune\n",
    "        name (string): parameter name within `module` on which pruning\n",
    "                will act.\n",
    "\n",
    "    Returns:\n",
    "        module (nn.Module): modified (i.e. pruned) version of the input\n",
    "            module\n",
    "    \n",
    "    Examples:\n",
    "        >>> m = nn.Linear(3, 4)\n",
    "        >>> foobar_unstructured(m, name='bias')\n",
    "    \"\"\"\n",
    "    FooBarPruningMethod.apply(module, name)\n",
    "    return module"
   ]
  },
  {
   "cell_type": "markdown",
   "metadata": {},
   "source": [
    "Let\\'s try it out!\n"
   ]
  },
  {
   "cell_type": "code",
   "execution_count": 29,
   "metadata": {
    "collapsed": false,
    "jupyter": {
     "outputs_hidden": false
    }
   },
   "outputs": [
    {
     "name": "stdout",
     "output_type": "stream",
     "text": [
      "tensor([0., 1., 0., 1., 0., 1., 0., 1., 0., 1.])\n"
     ]
    }
   ],
   "source": [
    "model = LeNet()\n",
    "foobar_unstructured(model.fc3, name='bias')\n",
    "\n",
    "print(model.fc3.bias_mask)"
   ]
  },
  {
   "cell_type": "code",
   "execution_count": null,
   "metadata": {},
   "outputs": [],
   "source": []
  },
  {
   "cell_type": "code",
   "execution_count": null,
   "metadata": {},
   "outputs": [],
   "source": []
  },
  {
   "cell_type": "code",
   "execution_count": null,
   "metadata": {},
   "outputs": [],
   "source": []
  },
  {
   "cell_type": "code",
   "execution_count": null,
   "metadata": {},
   "outputs": [],
   "source": []
  }
 ],
 "metadata": {
  "kernelspec": {
   "display_name": "Python 3 (ipykernel)",
   "language": "python",
   "name": "python3"
  },
  "language_info": {
   "codemirror_mode": {
    "name": "ipython",
    "version": 3
   },
   "file_extension": ".py",
   "mimetype": "text/x-python",
   "name": "python",
   "nbconvert_exporter": "python",
   "pygments_lexer": "ipython3",
   "version": "3.8.19"
  }
 },
 "nbformat": 4,
 "nbformat_minor": 4
}
